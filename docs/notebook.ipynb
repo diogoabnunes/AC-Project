{
 "cells": [
  {
   "cell_type": "markdown",
   "id": "528e7a48",
   "metadata": {},
   "source": [
    "# To loan or not to loan - that is the question"
   ]
  },
  {
   "cell_type": "markdown",
   "id": "43d7b3d0",
   "metadata": {},
   "source": [
    "This project consists of the development of a data mining case study. It aims to predict whether a loan will be payed back to the bank or not."
   ]
  },
  {
   "cell_type": "markdown",
   "id": "cb945178",
   "metadata": {},
   "source": [
    "## Importing Libraries"
   ]
  },
  {
   "cell_type": "code",
   "execution_count": 29,
   "id": "cfb2d070",
   "metadata": {},
   "outputs": [],
   "source": [
    "import pandas as pd\n",
    "import seaborn as sb\n",
    "import matplotlib.pyplot as plt\n",
    "import numpy as np"
   ]
  },
  {
   "cell_type": "markdown",
   "id": "8980d7e5",
   "metadata": {},
   "source": [
    "## Useful functions"
   ]
  },
  {
   "cell_type": "code",
   "execution_count": 30,
   "id": "e35f985a",
   "metadata": {},
   "outputs": [],
   "source": [
    "def csv_df(file, sep=';', **kwargs):\n",
    "    return pd.read_csv(file, sep=sep, na_values=kwargs.get('na_values', None), dtype=kwargs.get('dtype', None))\n",
    "\n",
    "def convert_date(df, column, date_format='%y%m%d'):\n",
    "    copy_df = df.copy()\n",
    "    copy_df[column] = pd.to_datetime(copy_df[column], format=date_format)\n",
    "\n",
    "    return copy_df"
   ]
  },
  {
   "cell_type": "markdown",
   "id": "709f91a5",
   "metadata": {},
   "source": [
    "## Loading Data"
   ]
  },
  {
   "cell_type": "code",
   "execution_count": 56,
   "id": "1822f392",
   "metadata": {},
   "outputs": [],
   "source": [
    "account_df = csv_df('../data/account.csv')\n",
    "client_df = csv_df('../data/client.csv')\n",
    "disp_df = csv_df('../data/disp.csv')\n",
    "transaction_df = csv_df('../data/trans_train.csv', dtype={'bank': str})\n",
    "transaction_test_df = csv_df('../data/trans_test.csv')\n",
    "loan_df = csv_df('../data/loan_train.csv')\n",
    "loan_test_df = csv_df('../data/loan_test.csv')\n",
    "card_df = csv_df('../data/card_train.csv')\n",
    "card_test_df = csv_df('../data/card_test.csv')\n",
    "district_df = csv_df('../data/district.csv')"
   ]
  },
  {
   "cell_type": "markdown",
   "id": "8851f80e",
   "metadata": {},
   "source": [
    "## Domain Description"
   ]
  },
  {
   "cell_type": "markdown",
   "id": "f58223ae",
   "metadata": {},
   "source": [
    "A Czech bank wants to improve their services using a datamining approach. The bank provides data about their clients, the accounts (transactions within several months), the loans already granted, the credit cards issued, dating from 1993 to 1998. This data is provided as a set of *.csv* files."
   ]
  },
  {
   "cell_type": "code",
   "execution_count": 60,
   "id": "181c3f9b",
   "metadata": {},
   "outputs": [
    {
     "name": "stdout",
     "output_type": "stream",
     "text": [
      "Accounts: 4500\n",
      "Clients: 5369\n",
      "Districts: 77\n",
      "Transactions: 426885\n",
      "Loans: 682\n"
     ]
    }
   ],
   "source": [
    "print('Accounts: ' + str(account_df['account_id'].nunique()))\n",
    "print('Clients: ' + str(client_df['client_id'].nunique()))\n",
    "print('Districts: ' + str(district_df['code '].nunique()))\n",
    "print('Transactions: ' + str(transaction_df['trans_id'].nunique() + transaction_test_df['trans_id'].nunique()))\n",
    "print('Loans: ' + str(loan_df['loan_id'].nunique() + loan_test_df['loan_id'].nunique()))"
   ]
  },
  {
   "cell_type": "markdown",
   "id": "f3cdac74",
   "metadata": {},
   "source": [
    "## Exploratory Data Analysis"
   ]
  },
  {
   "cell_type": "code",
   "execution_count": null,
   "id": "a8c4f4b5",
   "metadata": {},
   "outputs": [],
   "source": []
  },
  {
   "cell_type": "markdown",
   "id": "beff175a",
   "metadata": {},
   "source": [
    "## Data Pre-processing"
   ]
  },
  {
   "cell_type": "code",
   "execution_count": 90,
   "id": "eaa38d72",
   "metadata": {},
   "outputs": [
    {
     "name": "stdout",
     "output_type": "stream",
     "text": [
      "<class 'pandas.core.frame.DataFrame'>\n",
      "RangeIndex: 77 entries, 0 to 76\n",
      "Data columns (total 13 columns):\n",
      " #   Column                                             Non-Null Count  Dtype  \n",
      "---  ------                                             --------------  -----  \n",
      " 0   district_id                                        77 non-null     int64  \n",
      " 1   region                                             77 non-null     object \n",
      " 2   no. of inhabitants                                 77 non-null     int64  \n",
      " 3   no. of municipalities with inhabitants < 499       77 non-null     int64  \n",
      " 4   no. of municipalities with inhabitants 500-1999    77 non-null     int64  \n",
      " 5   no. of municipalities with inhabitants 2000-9999   77 non-null     int64  \n",
      " 6   no. of municipalities with inhabitants >10000      77 non-null     int64  \n",
      " 7   no. of cities                                      77 non-null     int64  \n",
      " 8   ratio of urban inhabitants                         77 non-null     float64\n",
      " 9   average salary                                     77 non-null     int64  \n",
      " 10  entrepeneurs ratio                                 77 non-null     float64\n",
      " 11  crimes_increase                                    77 non-null     float64\n",
      " 12  unemploymant_increase                              77 non-null     float64\n",
      "dtypes: float64(4), int64(8), object(1)\n",
      "memory usage: 7.9+ KB\n",
      "None\n",
      "       district_id  no. of inhabitants  \\\n",
      "count    77.000000        7.700000e+01   \n",
      "mean     39.000000        1.338849e+05   \n",
      "std      22.371857        1.369135e+05   \n",
      "min       1.000000        4.282100e+04   \n",
      "25%      20.000000        8.585200e+04   \n",
      "50%      39.000000        1.088710e+05   \n",
      "75%      58.000000        1.390120e+05   \n",
      "max      77.000000        1.204953e+06   \n",
      "\n",
      "       no. of municipalities with inhabitants < 499   \\\n",
      "count                                      77.000000   \n",
      "mean                                       48.623377   \n",
      "std                                        32.741829   \n",
      "min                                         0.000000   \n",
      "25%                                        22.000000   \n",
      "50%                                        49.000000   \n",
      "75%                                        71.000000   \n",
      "max                                       151.000000   \n",
      "\n",
      "       no. of municipalities with inhabitants 500-1999  \\\n",
      "count                                        77.000000   \n",
      "mean                                         24.324675   \n",
      "std                                          12.780991   \n",
      "min                                           0.000000   \n",
      "25%                                          16.000000   \n",
      "50%                                          25.000000   \n",
      "75%                                          32.000000   \n",
      "max                                          70.000000   \n",
      "\n",
      "       no. of municipalities with inhabitants 2000-9999   \\\n",
      "count                                          77.000000   \n",
      "mean                                            6.272727   \n",
      "std                                             4.015222   \n",
      "min                                             0.000000   \n",
      "25%                                             4.000000   \n",
      "50%                                             6.000000   \n",
      "75%                                             8.000000   \n",
      "max                                            20.000000   \n",
      "\n",
      "       no. of municipalities with inhabitants >10000   no. of cities   \\\n",
      "count                                       77.000000       77.000000   \n",
      "mean                                         1.727273        6.259740   \n",
      "std                                          1.008338        2.435497   \n",
      "min                                          0.000000        1.000000   \n",
      "25%                                          1.000000        5.000000   \n",
      "50%                                          2.000000        6.000000   \n",
      "75%                                          2.000000        8.000000   \n",
      "max                                          5.000000       11.000000   \n",
      "\n",
      "       ratio of urban inhabitants   average salary   entrepeneurs ratio  \\\n",
      "count                    77.000000        77.000000           77.000000   \n",
      "mean                      0.630351      9031.675325            0.116130   \n",
      "std                       0.162217       790.202347            0.016609   \n",
      "min                       0.339000      8110.000000            0.081000   \n",
      "25%                       0.519000      8512.000000            0.105000   \n",
      "50%                       0.598000      8814.000000            0.113000   \n",
      "75%                       0.735000      9317.000000            0.126000   \n",
      "max                       1.000000     12541.000000            0.167000   \n",
      "\n",
      "       crimes_increase  unemploymant_increase  \n",
      "count        77.000000              77.000000  \n",
      "mean          0.000392               0.671494  \n",
      "std           0.005238               0.571172  \n",
      "min          -0.036758              -0.360000  \n",
      "25%          -0.001062               0.370000  \n",
      "50%           0.000612               0.580000  \n",
      "75%           0.002403               0.870000  \n",
      "max           0.011146               4.185000  \n"
     ]
    }
   ],
   "source": [
    "def preProcessClient(client_df):\n",
    "    df = clients_df.copy()\n",
    "    \n",
    "    # Splitting birth_number\n",
    "    df['year'] = 1900 + (df['birth_number'] // 10000) # get first 2 digits\n",
    "    df['day'] = df['birth_number'] % 100 # get last 2 digits\n",
    "    df['mix'] = (df['birth_number'] % 10000) // 100 # get middle digits\n",
    "    \n",
    "    # Adding gender column\n",
    "    df['gender'] = np.where(df['mix'] >= 50, 'F', 'M')\n",
    "    \n",
    "    # \"Fixing\" month, because we already have gender\n",
    "    df['month'] = np.where(df['mix'] >= 50, df['mix'] - 50, df['mix'])\n",
    "    \n",
    "    # Renaming birth_number column to birth\n",
    "    df['birth_number'] = df['year']*10000 + df['month']*100 + df['day']\n",
    "    df['birth'] = pd.to_datetime(df['birth_number'], format='%Y%m%d')\n",
    "    \n",
    "    # Removing unnecessary columns\n",
    "    df = df.drop(['birth_number', 'year', 'month', 'day', 'mix'], axis=1)\n",
    "    \n",
    "    return df \n",
    "\n",
    "def preProcessDisp(disp_df):\n",
    "    df = disp_df.copy()\n",
    "    \n",
    "    return df\n",
    "\n",
    "def preProcessCard(card_df):\n",
    "    df = card_df.copy()\n",
    "    \n",
    "    df['issued'] = pd.to_datetime(df['issued'], format='%y%m%d')\n",
    "    \n",
    "    return df\n",
    "\n",
    "def preProcessDistrict(district_df):\n",
    "    df = district_df.copy()\n",
    "    \n",
    "    # '?' Values to average: 'no. of commited crimes \\'95 '\n",
    "    crimes_NOTNULL = df['no. of commited crimes \\'95 '] != '?'\n",
    "    crimes_NULL = df['no. of commited crimes \\'95 '] == '?'\n",
    "    crimes_average = pd.to_numeric(df[crimes_NOTNULL]['no. of commited crimes \\'95 ']).astype(float).median()\n",
    "    df.loc[crimes_NULL, 'no. of commited crimes \\'95 '] = crimes_average\n",
    "    \n",
    "    # '?' Values to average: 'unemploymant rate \\'95 '\n",
    "    unemploymant_NOTNULL = df['unemploymant rate \\'95 '] != '?'\n",
    "    unemploymant_NULL = df['unemploymant rate \\'95 '] == '?'\n",
    "    unemploymant_average = pd.to_numeric(df[unemploymant_NOTNULL]['unemploymant rate \\'95 ']).astype(float).median()\n",
    "    df.loc[unemploymant_NULL, 'unemploymant rate \\'95 '] = unemploymant_average\n",
    "    \n",
    "    # Int -> Float, Obj -> Numeric\n",
    "    df['unemploymant rate \\'95 '] = df['unemploymant rate \\'95 '].astype(float)\n",
    "    df['no. of commited crimes \\'95 '] = pd.to_numeric(df['no. of commited crimes \\'95 '])\n",
    "    df['unemploymant rate \\'96 '] = df['unemploymant rate \\'96 '].astype(float)\n",
    "    df['no. of commited crimes \\'96 '] = pd.to_numeric(df['no. of commited crimes \\'96 '])\n",
    "    df['no. of enterpreneurs per 1000 inhabitants '] = pd.to_numeric(df['no. of enterpreneurs per 1000 inhabitants '])\n",
    "    df['ratio of urban inhabitants '] = df['ratio of urban inhabitants '].astype(float)\n",
    "    \n",
    "    # Ratio: 0-1\n",
    "    df['entrepeneurs ratio'] = df['no. of enterpreneurs per 1000 inhabitants '] / 1000\n",
    "    df['ratio of urban inhabitants '] = df['ratio of urban inhabitants '] / 100\n",
    "    \n",
    "    # 95-96 Increase on Crimes and Unemploymant\n",
    "    df['crimes_increase'] = (df['no. of commited crimes \\'96 '] - df['no. of commited crimes \\'95 ']) / df['no. of inhabitants']\n",
    "    df['unemploymant_increase'] = df['unemploymant rate \\'96 '] - df['unemploymant rate \\'95 ']\n",
    "\n",
    "    # Removing unnecessary columns\n",
    "    df = df.drop(['no. of enterpreneurs per 1000 inhabitants ', \n",
    "                 'unemploymant rate \\'96 ', 'no. of commited crimes \\'96 ',\n",
    "                  'unemploymant rate \\'95 ', 'no. of commited crimes \\'95 ', 'name '], axis=1)        \n",
    "    \n",
    "    df = df.rename(columns={'code ': 'district_id'})\n",
    "    print(df.info())\n",
    "    print(df.describe())\n",
    "    return df\n",
    "\n",
    "a = preProcessDistrict(district_df)"
   ]
  }
 ],
 "metadata": {
  "kernelspec": {
   "display_name": "Python 3 (ipykernel)",
   "language": "python",
   "name": "python3"
  },
  "language_info": {
   "codemirror_mode": {
    "name": "ipython",
    "version": 3
   },
   "file_extension": ".py",
   "mimetype": "text/x-python",
   "name": "python",
   "nbconvert_exporter": "python",
   "pygments_lexer": "ipython3",
   "version": "3.9.7"
  }
 },
 "nbformat": 4,
 "nbformat_minor": 5
}
