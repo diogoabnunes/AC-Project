{
 "cells": [
  {
   "cell_type": "markdown",
   "id": "528e7a48",
   "metadata": {},
   "source": [
    "# AC Project: To loan or not to loan"
   ]
  },
  {
   "cell_type": "markdown",
   "id": "3a7cb8c0",
   "metadata": {},
   "source": [
    "## Client.csv"
   ]
  },
  {
   "cell_type": "code",
   "execution_count": 20,
   "id": "cfb2d070",
   "metadata": {},
   "outputs": [
    {
     "name": "stdout",
     "output_type": "stream",
     "text": [
      "      client_id birth_number gender  district_id\n",
      "0             1   13/12/1970      F           18\n",
      "1             2     4/2/1945      M            1\n",
      "2             3    9/10/1940      F            1\n",
      "3             4    1/12/1956      M            5\n",
      "4             5     3/7/1960      F            5\n",
      "...         ...          ...    ...          ...\n",
      "5364      13955   30/10/1945      F            1\n",
      "5365      13956     6/4/1943      M            1\n",
      "5366      13968    13/4/1968      M           61\n",
      "5367      13971   19/10/1962      F           67\n",
      "5368      13998    12/8/1953      F           74\n",
      "\n",
      "[5369 rows x 4 columns] \n",
      "---------------------------------------------------\n",
      "<class 'pandas.core.frame.DataFrame'>\n",
      "RangeIndex: 5369 entries, 0 to 5368\n",
      "Data columns (total 4 columns):\n",
      " #   Column        Non-Null Count  Dtype \n",
      "---  ------        --------------  ----- \n",
      " 0   client_id     5369 non-null   int64 \n",
      " 1   birth_number  5369 non-null   object\n",
      " 2   gender        5369 non-null   object\n",
      " 3   district_id   5369 non-null   int64 \n",
      "dtypes: int64(2), object(2)\n",
      "memory usage: 167.9+ KB\n",
      "None \n",
      "---------------------------------------------------\n",
      "          client_id  district_id\n",
      "count   5369.000000  5369.000000\n",
      "mean    3359.011920    37.310114\n",
      "std     2832.911984    25.043690\n",
      "min        1.000000     1.000000\n",
      "25%     1418.000000    14.000000\n",
      "50%     2839.000000    38.000000\n",
      "75%     4257.000000    60.000000\n",
      "max    13998.000000    77.000000 \n",
      "---------------------------------------------------\n"
     ]
    },
    {
     "data": {
      "text/plain": [
       "<AxesSubplot:xlabel='gender', ylabel='count'>"
      ]
     },
     "execution_count": 20,
     "metadata": {},
     "output_type": "execute_result"
    },
    {
     "data": {
      "image/png": "[encoded data removed]",
      "text/plain": [
       "<Figure size 432x288 with 1 Axes>"
      ]
     },
     "metadata": {
      "needs_background": "light"
     },
     "output_type": "display_data"
    }
   ],
   "source": [
    "import pandas as pd\n",
    "import seaborn as sb\n",
    "\n",
    "#import os\n",
    "#os.system('cls' if os.name == 'nt' else 'clear')\n",
    "\n",
    "client_fields = ['client_id', 'birth_number', 'district_id', 'gender']\n",
    "clients = pd.read_csv('../data/updatedClient.csv', usecols=client_fields, sep=',')\n",
    "clients_df = pd.DataFrame(clients)\n",
    "\n",
    "print(clients_df, \"\\n---------------------------------------------------\")\n",
    "print(clients_df.info(), \"\\n---------------------------------------------------\")\n",
    "print(clients_df.describe(), \"\\n---------------------------------------------------\")\n",
    "sb.countplot(x='gender', data=clients_df)\n",
    "# ..."
   ]
  },
  {
   "cell_type": "markdown",
   "id": "4ff6e3a0",
   "metadata": {},
   "source": [
    "## Disp.csv"
   ]
  },
  {
   "cell_type": "code",
   "execution_count": 22,
   "id": "aca5ea23",
   "metadata": {},
   "outputs": [
    {
     "name": "stdout",
     "output_type": "stream",
     "text": [
      "      disp_id  client_id  account_id       type\n",
      "0           1          1           1      OWNER\n",
      "1           2          2           2      OWNER\n",
      "2           3          3           2  DISPONENT\n",
      "3           4          4           3      OWNER\n",
      "4           5          5           3  DISPONENT\n",
      "...       ...        ...         ...        ...\n",
      "5364    13647      13955       11349      OWNER\n",
      "5365    13648      13956       11349  DISPONENT\n",
      "5366    13660      13968       11359      OWNER\n",
      "5367    13663      13971       11362      OWNER\n",
      "5368    13690      13998       11382      OWNER\n",
      "\n",
      "[5369 rows x 4 columns] \n",
      "---------------------------------------------------\n",
      "<class 'pandas.core.frame.DataFrame'>\n",
      "RangeIndex: 5369 entries, 0 to 5368\n",
      "Data columns (total 4 columns):\n",
      " #   Column      Non-Null Count  Dtype \n",
      "---  ------      --------------  ----- \n",
      " 0   disp_id     5369 non-null   int64 \n",
      " 1   client_id   5369 non-null   int64 \n",
      " 2   account_id  5369 non-null   int64 \n",
      " 3   type        5369 non-null   object\n",
      "dtypes: int64(3), object(1)\n",
      "memory usage: 167.9+ KB\n",
      "None \n",
      "---------------------------------------------------\n",
      "            disp_id     client_id    account_id\n",
      "count   5369.000000   5369.000000   5369.000000\n",
      "mean    3337.097970   3359.011920   2767.496927\n",
      "std     2770.418826   2832.911984   2307.843630\n",
      "min        1.000000      1.000000      1.000000\n",
      "25%     1418.000000   1418.000000   1178.000000\n",
      "50%     2839.000000   2839.000000   2349.000000\n",
      "75%     4257.000000   4257.000000   3526.000000\n",
      "max    13690.000000  13998.000000  11382.000000 \n",
      "---------------------------------------------------\n"
     ]
    },
    {
     "data": {
      "text/plain": [
       "<AxesSubplot:xlabel='type', ylabel='count'>"
      ]
     },
     "execution_count": 22,
     "metadata": {},
     "output_type": "execute_result"
    },
    {
     "data": {
      "image/png": "[encoded data removed]",
      "text/plain": [
       "<Figure size 432x288 with 1 Axes>"
      ]
     },
     "metadata": {
      "needs_background": "light"
     },
     "output_type": "display_data"
    }
   ],
   "source": [
    "disp_fields = ['disp_id', 'client_id', 'account_id', 'type']\n",
    "disp = pd.read_csv('../data/disp.csv', usecols=disp_fields, sep=';')\n",
    "disp_df = pd.DataFrame(disp)\n",
    "\n",
    "print(disp_df, \"\\n---------------------------------------------------\")\n",
    "print(disp_df.info(), \"\\n---------------------------------------------------\")\n",
    "print(disp_df.describe(), \"\\n---------------------------------------------------\")\n",
    "sb.countplot(x='type', data=disp_df)"
   ]
  },
  {
   "cell_type": "markdown",
   "id": "f2c468de",
   "metadata": {},
   "source": [
    "## Card_train.csv"
   ]
  },
  {
   "cell_type": "code",
   "execution_count": 24,
   "id": "6fd13c95",
   "metadata": {},
   "outputs": [
    {
     "name": "stdout",
     "output_type": "stream",
     "text": [
      "     card_id  disp_id     type  issued\n",
      "0       1005     9285  classic  931107\n",
      "1        104      588  classic  940119\n",
      "2        747     4915  classic  940205\n",
      "3         70      439  classic  940208\n",
      "4        577     3687  classic  940215\n",
      "..       ...      ...      ...     ...\n",
      "172      243     1478  classic  961213\n",
      "173      162      967   junior  961223\n",
      "174      594     3794   junior  961227\n",
      "175      609     3893  classic  961229\n",
      "176      786     5478  classic  961231\n",
      "\n",
      "[177 rows x 4 columns] \n",
      "---------------------------------------------------\n",
      "<class 'pandas.core.frame.DataFrame'>\n",
      "RangeIndex: 177 entries, 0 to 176\n",
      "Data columns (total 4 columns):\n",
      " #   Column   Non-Null Count  Dtype \n",
      "---  ------   --------------  ----- \n",
      " 0   card_id  177 non-null    int64 \n",
      " 1   disp_id  177 non-null    int64 \n",
      " 2   type     177 non-null    object\n",
      " 3   issued   177 non-null    int64 \n",
      "dtypes: int64(3), object(1)\n",
      "memory usage: 5.7+ KB\n",
      "None \n",
      "---------------------------------------------------\n",
      "           card_id       disp_id         issued\n",
      "count   177.000000    177.000000     177.000000\n",
      "mean    433.576271   3031.723164  954971.259887\n",
      "std     290.507562   2632.338944    7217.974691\n",
      "min       3.000000     41.000000  931107.000000\n",
      "25%     183.000000   1080.000000  950616.000000\n",
      "50%     397.000000   2513.000000  960221.000000\n",
      "75%     661.000000   4270.000000  960831.000000\n",
      "max    1247.000000  13660.000000  961231.000000 \n",
      "---------------------------------------------------\n"
     ]
    },
    {
     "data": {
      "text/plain": [
       "<AxesSubplot:xlabel='type', ylabel='count'>"
      ]
     },
     "execution_count": 24,
     "metadata": {},
     "output_type": "execute_result"
    },
    {
     "data": {
      "image/png": "[encoded data removed]",
      "text/plain": [
       "<Figure size 432x288 with 1 Axes>"
      ]
     },
     "metadata": {
      "needs_background": "light"
     },
     "output_type": "display_data"
    }
   ],
   "source": [
    "card_fields = ['card_id', 'disp_id', 'type', 'issued']\n",
    "card = pd.read_csv('../data/card_train.csv', usecols=card_fields, sep=';')\n",
    "card_df = pd.DataFrame(card)\n",
    "\n",
    "print(card_df, \"\\n---------------------------------------------------\")\n",
    "print(card_df.info(), \"\\n---------------------------------------------------\")\n",
    "print(card_df.describe(), \"\\n---------------------------------------------------\")\n",
    "sb.countplot(x='type', data=card_df)"
   ]
  },
  {
   "cell_type": "code",
   "execution_count": null,
   "id": "d5671f9d",
   "metadata": {},
   "outputs": [],
   "source": []
  }
 ],
 "metadata": {
  "kernelspec": {
   "display_name": "Python 3 (ipykernel)",
   "language": "python",
   "name": "python3"
  },
  "language_info": {
   "codemirror_mode": {
    "name": "ipython",
    "version": 3
   },
   "file_extension": ".py",
   "mimetype": "text/x-python",
   "name": "python",
   "nbconvert_exporter": "python",
   "pygments_lexer": "ipython3",
   "version": "3.8.8"
  }
 },
 "nbformat": 4,
 "nbformat_minor": 5
}
